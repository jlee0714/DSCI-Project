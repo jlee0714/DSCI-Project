{
 "cells": [
  {
   "cell_type": "markdown",
   "id": "f061ade5",
   "metadata": {},
   "source": [
    "## Introduction"
   ]
  },
  {
   "cell_type": "markdown",
   "id": "57ec522b",
   "metadata": {},
   "source": [
    "## Preliminary Exploratory data analysis"
   ]
  },
  {
   "cell_type": "code",
   "execution_count": 2,
   "id": "9fabcfd1",
   "metadata": {},
   "outputs": [
    {
     "data": {
      "text/html": [
       "<table class=\"dataframe\">\n",
       "<caption>A data.frame: 6 × 8</caption>\n",
       "<thead>\n",
       "\t<tr><th></th><th scope=col>Area</th><th scope=col>Perimeter</th><th scope=col>MajorAxisLength</th><th scope=col>MinorAxisLength</th><th scope=col>Eccentricity</th><th scope=col>ConvexArea</th><th scope=col>Extent</th><th scope=col>Class</th></tr>\n",
       "\t<tr><th></th><th scope=col>&lt;int&gt;</th><th scope=col>&lt;dbl&gt;</th><th scope=col>&lt;dbl&gt;</th><th scope=col>&lt;dbl&gt;</th><th scope=col>&lt;int&gt;</th><th scope=col>&lt;dbl&gt;</th><th scope=col>&lt;dbl&gt;</th><th scope=col>&lt;chr&gt;</th></tr>\n",
       "</thead>\n",
       "<tbody>\n",
       "\t<tr><th scope=row>1</th><td>87524</td><td>442.2460</td><td>253.2912</td><td>0.8197384</td><td>90546</td><td>0.7586506</td><td>1184.040</td><td>Kecimen</td></tr>\n",
       "\t<tr><th scope=row>2</th><td>75166</td><td>406.6907</td><td>243.0324</td><td>0.8018052</td><td>78789</td><td>0.6841296</td><td>1121.786</td><td>Kecimen</td></tr>\n",
       "\t<tr><th scope=row>3</th><td>90856</td><td>442.2670</td><td>266.3283</td><td>0.7983536</td><td>93717</td><td>0.6376128</td><td>1208.575</td><td>Kecimen</td></tr>\n",
       "\t<tr><th scope=row>4</th><td>45928</td><td>286.5406</td><td>208.7600</td><td>0.6849892</td><td>47336</td><td>0.6995994</td><td> 844.162</td><td>Kecimen</td></tr>\n",
       "\t<tr><th scope=row>5</th><td>79408</td><td>352.1908</td><td>290.8275</td><td>0.5640113</td><td>81463</td><td>0.7927719</td><td>1073.251</td><td>Kecimen</td></tr>\n",
       "\t<tr><th scope=row>6</th><td>49242</td><td>318.1254</td><td>200.1221</td><td>0.7773513</td><td>51368</td><td>0.6584564</td><td> 881.836</td><td>Kecimen</td></tr>\n",
       "</tbody>\n",
       "</table>\n"
      ],
      "text/latex": [
       "A data.frame: 6 × 8\n",
       "\\begin{tabular}{r|llllllll}\n",
       "  & Area & Perimeter & MajorAxisLength & MinorAxisLength & Eccentricity & ConvexArea & Extent & Class\\\\\n",
       "  & <int> & <dbl> & <dbl> & <dbl> & <int> & <dbl> & <dbl> & <chr>\\\\\n",
       "\\hline\n",
       "\t1 & 87524 & 442.2460 & 253.2912 & 0.8197384 & 90546 & 0.7586506 & 1184.040 & Kecimen\\\\\n",
       "\t2 & 75166 & 406.6907 & 243.0324 & 0.8018052 & 78789 & 0.6841296 & 1121.786 & Kecimen\\\\\n",
       "\t3 & 90856 & 442.2670 & 266.3283 & 0.7983536 & 93717 & 0.6376128 & 1208.575 & Kecimen\\\\\n",
       "\t4 & 45928 & 286.5406 & 208.7600 & 0.6849892 & 47336 & 0.6995994 &  844.162 & Kecimen\\\\\n",
       "\t5 & 79408 & 352.1908 & 290.8275 & 0.5640113 & 81463 & 0.7927719 & 1073.251 & Kecimen\\\\\n",
       "\t6 & 49242 & 318.1254 & 200.1221 & 0.7773513 & 51368 & 0.6584564 &  881.836 & Kecimen\\\\\n",
       "\\end{tabular}\n"
      ],
      "text/markdown": [
       "\n",
       "A data.frame: 6 × 8\n",
       "\n",
       "| <!--/--> | Area &lt;int&gt; | Perimeter &lt;dbl&gt; | MajorAxisLength &lt;dbl&gt; | MinorAxisLength &lt;dbl&gt; | Eccentricity &lt;int&gt; | ConvexArea &lt;dbl&gt; | Extent &lt;dbl&gt; | Class &lt;chr&gt; |\n",
       "|---|---|---|---|---|---|---|---|---|\n",
       "| 1 | 87524 | 442.2460 | 253.2912 | 0.8197384 | 90546 | 0.7586506 | 1184.040 | Kecimen |\n",
       "| 2 | 75166 | 406.6907 | 243.0324 | 0.8018052 | 78789 | 0.6841296 | 1121.786 | Kecimen |\n",
       "| 3 | 90856 | 442.2670 | 266.3283 | 0.7983536 | 93717 | 0.6376128 | 1208.575 | Kecimen |\n",
       "| 4 | 45928 | 286.5406 | 208.7600 | 0.6849892 | 47336 | 0.6995994 |  844.162 | Kecimen |\n",
       "| 5 | 79408 | 352.1908 | 290.8275 | 0.5640113 | 81463 | 0.7927719 | 1073.251 | Kecimen |\n",
       "| 6 | 49242 | 318.1254 | 200.1221 | 0.7773513 | 51368 | 0.6584564 |  881.836 | Kecimen |\n",
       "\n"
      ],
      "text/plain": [
       "  Area  Perimeter MajorAxisLength MinorAxisLength Eccentricity ConvexArea\n",
       "1 87524 442.2460  253.2912        0.8197384       90546        0.7586506 \n",
       "2 75166 406.6907  243.0324        0.8018052       78789        0.6841296 \n",
       "3 90856 442.2670  266.3283        0.7983536       93717        0.6376128 \n",
       "4 45928 286.5406  208.7600        0.6849892       47336        0.6995994 \n",
       "5 79408 352.1908  290.8275        0.5640113       81463        0.7927719 \n",
       "6 49242 318.1254  200.1221        0.7773513       51368        0.6584564 \n",
       "  Extent   Class  \n",
       "1 1184.040 Kecimen\n",
       "2 1121.786 Kecimen\n",
       "3 1208.575 Kecimen\n",
       "4  844.162 Kecimen\n",
       "5 1073.251 Kecimen\n",
       "6  881.836 Kecimen"
      ]
     },
     "metadata": {},
     "output_type": "display_data"
    }
   ],
   "source": [
    "raisin_data <- read.table(\"data/Raisin_Dataset.arff\", sep = \",\", skip = 18)\n",
    "colnames(raisin_data) = c(\"Area\", \"Perimeter\", \"MajorAxisLength\", \"MinorAxisLength\",\n",
    "                          \"Eccentricity\", \"ConvexArea\", \"Extent\", \"Class\")\n",
    "head(raisin_data)"
   ]
  },
  {
   "cell_type": "markdown",
   "id": "497bfa35",
   "metadata": {},
   "source": [
    "## Methods"
   ]
  },
  {
   "cell_type": "code",
   "execution_count": null,
   "id": "19695814",
   "metadata": {},
   "outputs": [],
   "source": []
  },
  {
   "cell_type": "markdown",
   "id": "f8758f8d",
   "metadata": {},
   "source": [
    "## Expected outcomes and significance"
   ]
  },
  {
   "cell_type": "code",
   "execution_count": null,
   "id": "43770790",
   "metadata": {},
   "outputs": [],
   "source": []
  }
 ],
 "metadata": {
  "kernelspec": {
   "display_name": "R",
   "language": "R",
   "name": "ir"
  },
  "language_info": {
   "codemirror_mode": "r",
   "file_extension": ".r",
   "mimetype": "text/x-r-source",
   "name": "R",
   "pygments_lexer": "r",
   "version": "4.1.3"
  }
 },
 "nbformat": 4,
 "nbformat_minor": 5
}
