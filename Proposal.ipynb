{
 "cells": [
  {
   "cell_type": "markdown",
   "id": "b832b31f-7ed9-4b75-bef9-e40e8ec2a99c",
   "metadata": {},
   "source": [
    "# Proposal "
   ]
  },
  {
   "cell_type": "code",
   "execution_count": null,
   "id": "b2f3b1ce-0c71-41b9-a8b6-2b7ee920d138",
   "metadata": {},
   "outputs": [],
   "source": []
  }
 ],
 "metadata": {
  "kernelspec": {
   "display_name": "R",
   "language": "R",
   "name": "ir"
  },
  "language_info": {
   "codemirror_mode": "r",
   "file_extension": ".r",
   "mimetype": "text/x-r-source",
   "name": "R",
   "pygments_lexer": "r",
   "version": "4.1.3"
  }
 },
 "nbformat": 4,
 "nbformat_minor": 5
}
