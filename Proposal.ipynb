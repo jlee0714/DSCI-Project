{
 "cells": [
  {
   "cell_type": "markdown",
   "id": "b832b31f-7ed9-4b75-bef9-e40e8ec2a99c",
   "metadata": {},
   "source": [
    "# Proposal (need official title)"
   ]
  },
  {
   "cell_type": "code",
   "execution_count": null,
   "id": "b2f3b1ce-0c71-41b9-a8b6-2b7ee920d138",
   "metadata": {},
   "outputs": [],
   "source": [
    "Intro"
   ]
  },
  {
   "cell_type": "code",
   "execution_count": null,
   "id": "3768fd65-4518-4557-9cbe-7f302f250c2b",
   "metadata": {},
   "outputs": [],
   "source": [
    "Preliminary Exploratory data analysis"
   ]
  },
  {
   "cell_type": "code",
   "execution_count": null,
   "id": "a6c67b02-d00e-45bb-b41c-a3b146aa3944",
   "metadata": {},
   "outputs": [],
   "source": [
    "Methods"
   ]
  },
  {
   "cell_type": "code",
   "execution_count": null,
   "id": "e4c0a8e7-6ffe-4271-8ea6-6f6983db5139",
   "metadata": {},
   "outputs": [],
   "source": [
    "Expected outcomes and significance"
   ]
  }
 ],
 "metadata": {
  "kernelspec": {
   "display_name": "R",
   "language": "R",
   "name": "ir"
  },
  "language_info": {
   "codemirror_mode": "r",
   "file_extension": ".r",
   "mimetype": "text/x-r-source",
   "name": "R",
   "pygments_lexer": "r",
   "version": "4.1.3"
  }
 },
 "nbformat": 4,
 "nbformat_minor": 5
}
