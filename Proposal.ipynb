{
 "cells": [
  {
   "cell_type": "markdown",
   "id": "c7744ea2-cdf3-4334-9403-62b7f95c02ac",
   "metadata": {},
   "source": [
    "# Classification on Raisin Dataset Proposal"
   ]
  },
  {
   "cell_type": "markdown",
   "id": "f061ade5",
   "metadata": {},
   "source": [
    "## Introduction"
   ]
  },
  {
   "cell_type": "markdown",
   "id": "6b285417-3303-43f2-ba39-ef7f3d29d41a",
   "metadata": {},
   "source": [
    "All aspects of the natural life around us are surrounded by patterns and relationships. Although some of these have been discovered, many natural phenomena are unexplainable as of today. Tools such as classification are used to further discern these natural patterns and make sense of our world by specifying and identifying different types or species of nature. Within this project, we will be aiming to show the importance of classification, by applying this concept to an example dataset regarding raisins. Within this dataset, 900 raisin grains were collected between two types of Turkish raisins, Kecimen and Besni. Images were taken of these 900 raisins and 7 physical features of the raisins were identified, including the raisins area, perimeter, length and more. We seek to use this dataset and identify key features that will allow us to classify whether the raisin is Kecimen or Besni. By doing so, we will show the effectiveness of classification and show how this can be extrapolated to further and more complex phenomena in our world. \n"
   ]
  },
  {
   "cell_type": "markdown",
   "id": "57ec522b",
   "metadata": {},
   "source": [
    "## Preliminary Exploratory Data Analysis"
   ]
  },
  {
   "cell_type": "code",
   "execution_count": 2,
   "id": "9fabcfd1",
   "metadata": {},
   "outputs": [
    {
     "name": "stderr",
     "output_type": "stream",
     "text": [
      "── \u001b[1mAttaching packages\u001b[22m ─────────────────────────────────────── tidyverse 1.3.1 ──\n",
      "\n",
      "\u001b[32m✔\u001b[39m \u001b[34mggplot2\u001b[39m 3.3.6     \u001b[32m✔\u001b[39m \u001b[34mpurrr  \u001b[39m 0.3.4\n",
      "\u001b[32m✔\u001b[39m \u001b[34mtibble \u001b[39m 3.1.7     \u001b[32m✔\u001b[39m \u001b[34mdplyr  \u001b[39m 1.0.9\n",
      "\u001b[32m✔\u001b[39m \u001b[34mtidyr  \u001b[39m 1.2.0     \u001b[32m✔\u001b[39m \u001b[34mstringr\u001b[39m 1.4.0\n",
      "\u001b[32m✔\u001b[39m \u001b[34mreadr  \u001b[39m 2.1.2     \u001b[32m✔\u001b[39m \u001b[34mforcats\u001b[39m 0.5.1\n",
      "\n",
      "── \u001b[1mConflicts\u001b[22m ────────────────────────────────────────── tidyverse_conflicts() ──\n",
      "\u001b[31m✖\u001b[39m \u001b[34mdplyr\u001b[39m::\u001b[32mfilter()\u001b[39m masks \u001b[34mstats\u001b[39m::filter()\n",
      "\u001b[31m✖\u001b[39m \u001b[34mdplyr\u001b[39m::\u001b[32mlag()\u001b[39m    masks \u001b[34mstats\u001b[39m::lag()\n",
      "\n",
      "── \u001b[1mAttaching packages\u001b[22m ────────────────────────────────────── tidymodels 1.0.0 ──\n",
      "\n",
      "\u001b[32m✔\u001b[39m \u001b[34mbroom       \u001b[39m 1.0.0     \u001b[32m✔\u001b[39m \u001b[34mrsample     \u001b[39m 1.0.0\n",
      "\u001b[32m✔\u001b[39m \u001b[34mdials       \u001b[39m 1.0.0     \u001b[32m✔\u001b[39m \u001b[34mtune        \u001b[39m 1.0.0\n",
      "\u001b[32m✔\u001b[39m \u001b[34minfer       \u001b[39m 1.0.2     \u001b[32m✔\u001b[39m \u001b[34mworkflows   \u001b[39m 1.0.0\n",
      "\u001b[32m✔\u001b[39m \u001b[34mmodeldata   \u001b[39m 1.0.0     \u001b[32m✔\u001b[39m \u001b[34mworkflowsets\u001b[39m 1.0.0\n",
      "\u001b[32m✔\u001b[39m \u001b[34mparsnip     \u001b[39m 1.0.0     \u001b[32m✔\u001b[39m \u001b[34myardstick   \u001b[39m 1.0.0\n",
      "\u001b[32m✔\u001b[39m \u001b[34mrecipes     \u001b[39m 1.0.1     \n",
      "\n",
      "── \u001b[1mConflicts\u001b[22m ───────────────────────────────────────── tidymodels_conflicts() ──\n",
      "\u001b[31m✖\u001b[39m \u001b[34mscales\u001b[39m::\u001b[32mdiscard()\u001b[39m masks \u001b[34mpurrr\u001b[39m::discard()\n",
      "\u001b[31m✖\u001b[39m \u001b[34mdplyr\u001b[39m::\u001b[32mfilter()\u001b[39m   masks \u001b[34mstats\u001b[39m::filter()\n",
      "\u001b[31m✖\u001b[39m \u001b[34mrecipes\u001b[39m::\u001b[32mfixed()\u001b[39m  masks \u001b[34mstringr\u001b[39m::fixed()\n",
      "\u001b[31m✖\u001b[39m \u001b[34mdplyr\u001b[39m::\u001b[32mlag()\u001b[39m      masks \u001b[34mstats\u001b[39m::lag()\n",
      "\u001b[31m✖\u001b[39m \u001b[34myardstick\u001b[39m::\u001b[32mspec()\u001b[39m masks \u001b[34mreadr\u001b[39m::spec()\n",
      "\u001b[31m✖\u001b[39m \u001b[34mrecipes\u001b[39m::\u001b[32mstep()\u001b[39m   masks \u001b[34mstats\u001b[39m::step()\n",
      "\u001b[34m•\u001b[39m Use \u001b[32mtidymodels_prefer()\u001b[39m to resolve common conflicts.\n",
      "\n"
     ]
    }
   ],
   "source": [
    "# Load the packages\n",
    "library(repr)\n",
    "library(tidyverse)\n",
    "library(tidymodels)"
   ]
  },
  {
   "cell_type": "code",
   "execution_count": 4,
   "id": "4166973b-17c3-42eb-a712-c3063481b3ec",
   "metadata": {},
   "outputs": [
    {
     "data": {
      "text/html": [
       "<table class=\"dataframe\">\n",
       "<caption>A data.frame: 6 × 8</caption>\n",
       "<thead>\n",
       "\t<tr><th></th><th scope=col>Area</th><th scope=col>Perimeter</th><th scope=col>MajorAxisLength</th><th scope=col>MinorAxisLength</th><th scope=col>Eccentricity</th><th scope=col>ConvexArea</th><th scope=col>Extent</th><th scope=col>Class</th></tr>\n",
       "\t<tr><th></th><th scope=col>&lt;int&gt;</th><th scope=col>&lt;dbl&gt;</th><th scope=col>&lt;dbl&gt;</th><th scope=col>&lt;dbl&gt;</th><th scope=col>&lt;int&gt;</th><th scope=col>&lt;dbl&gt;</th><th scope=col>&lt;dbl&gt;</th><th scope=col>&lt;chr&gt;</th></tr>\n",
       "</thead>\n",
       "<tbody>\n",
       "\t<tr><th scope=row>1</th><td>87524</td><td>442.2460</td><td>253.2912</td><td>0.8197384</td><td>90546</td><td>0.7586506</td><td>1184.040</td><td>Kecimen</td></tr>\n",
       "\t<tr><th scope=row>2</th><td>75166</td><td>406.6907</td><td>243.0324</td><td>0.8018052</td><td>78789</td><td>0.6841296</td><td>1121.786</td><td>Kecimen</td></tr>\n",
       "\t<tr><th scope=row>3</th><td>90856</td><td>442.2670</td><td>266.3283</td><td>0.7983536</td><td>93717</td><td>0.6376128</td><td>1208.575</td><td>Kecimen</td></tr>\n",
       "\t<tr><th scope=row>4</th><td>45928</td><td>286.5406</td><td>208.7600</td><td>0.6849892</td><td>47336</td><td>0.6995994</td><td> 844.162</td><td>Kecimen</td></tr>\n",
       "\t<tr><th scope=row>5</th><td>79408</td><td>352.1908</td><td>290.8275</td><td>0.5640113</td><td>81463</td><td>0.7927719</td><td>1073.251</td><td>Kecimen</td></tr>\n",
       "\t<tr><th scope=row>6</th><td>49242</td><td>318.1254</td><td>200.1221</td><td>0.7773513</td><td>51368</td><td>0.6584564</td><td> 881.836</td><td>Kecimen</td></tr>\n",
       "</tbody>\n",
       "</table>\n"
      ],
      "text/latex": [
       "A data.frame: 6 × 8\n",
       "\\begin{tabular}{r|llllllll}\n",
       "  & Area & Perimeter & MajorAxisLength & MinorAxisLength & Eccentricity & ConvexArea & Extent & Class\\\\\n",
       "  & <int> & <dbl> & <dbl> & <dbl> & <int> & <dbl> & <dbl> & <chr>\\\\\n",
       "\\hline\n",
       "\t1 & 87524 & 442.2460 & 253.2912 & 0.8197384 & 90546 & 0.7586506 & 1184.040 & Kecimen\\\\\n",
       "\t2 & 75166 & 406.6907 & 243.0324 & 0.8018052 & 78789 & 0.6841296 & 1121.786 & Kecimen\\\\\n",
       "\t3 & 90856 & 442.2670 & 266.3283 & 0.7983536 & 93717 & 0.6376128 & 1208.575 & Kecimen\\\\\n",
       "\t4 & 45928 & 286.5406 & 208.7600 & 0.6849892 & 47336 & 0.6995994 &  844.162 & Kecimen\\\\\n",
       "\t5 & 79408 & 352.1908 & 290.8275 & 0.5640113 & 81463 & 0.7927719 & 1073.251 & Kecimen\\\\\n",
       "\t6 & 49242 & 318.1254 & 200.1221 & 0.7773513 & 51368 & 0.6584564 &  881.836 & Kecimen\\\\\n",
       "\\end{tabular}\n"
      ],
      "text/markdown": [
       "\n",
       "A data.frame: 6 × 8\n",
       "\n",
       "| <!--/--> | Area &lt;int&gt; | Perimeter &lt;dbl&gt; | MajorAxisLength &lt;dbl&gt; | MinorAxisLength &lt;dbl&gt; | Eccentricity &lt;int&gt; | ConvexArea &lt;dbl&gt; | Extent &lt;dbl&gt; | Class &lt;chr&gt; |\n",
       "|---|---|---|---|---|---|---|---|---|\n",
       "| 1 | 87524 | 442.2460 | 253.2912 | 0.8197384 | 90546 | 0.7586506 | 1184.040 | Kecimen |\n",
       "| 2 | 75166 | 406.6907 | 243.0324 | 0.8018052 | 78789 | 0.6841296 | 1121.786 | Kecimen |\n",
       "| 3 | 90856 | 442.2670 | 266.3283 | 0.7983536 | 93717 | 0.6376128 | 1208.575 | Kecimen |\n",
       "| 4 | 45928 | 286.5406 | 208.7600 | 0.6849892 | 47336 | 0.6995994 |  844.162 | Kecimen |\n",
       "| 5 | 79408 | 352.1908 | 290.8275 | 0.5640113 | 81463 | 0.7927719 | 1073.251 | Kecimen |\n",
       "| 6 | 49242 | 318.1254 | 200.1221 | 0.7773513 | 51368 | 0.6584564 |  881.836 | Kecimen |\n",
       "\n"
      ],
      "text/plain": [
       "  Area  Perimeter MajorAxisLength MinorAxisLength Eccentricity ConvexArea\n",
       "1 87524 442.2460  253.2912        0.8197384       90546        0.7586506 \n",
       "2 75166 406.6907  243.0324        0.8018052       78789        0.6841296 \n",
       "3 90856 442.2670  266.3283        0.7983536       93717        0.6376128 \n",
       "4 45928 286.5406  208.7600        0.6849892       47336        0.6995994 \n",
       "5 79408 352.1908  290.8275        0.5640113       81463        0.7927719 \n",
       "6 49242 318.1254  200.1221        0.7773513       51368        0.6584564 \n",
       "  Extent   Class  \n",
       "1 1184.040 Kecimen\n",
       "2 1121.786 Kecimen\n",
       "3 1208.575 Kecimen\n",
       "4  844.162 Kecimen\n",
       "5 1073.251 Kecimen\n",
       "6  881.836 Kecimen"
      ]
     },
     "metadata": {},
     "output_type": "display_data"
    }
   ],
   "source": [
    "# Load data and rename columns\n",
    "raisin_data <- read.table(\"data/Raisin_Dataset.arff\", sep = \",\", skip = 18)\n",
    "colnames(raisin_data) = c(\"Area\", \"Perimeter\", \"MajorAxisLength\", \"MinorAxisLength\",\n",
    "                          \"Eccentricity\", \"ConvexArea\", \"Extent\", \"Class\")\n",
    "head(raisin_data)"
   ]
  },
  {
   "cell_type": "code",
   "execution_count": 4,
   "id": "87f6c4ec-e3f2-4d70-a15c-73e3d4510f56",
   "metadata": {},
   "outputs": [],
   "source": [
    "# Select the columns(predictors) to build model"
   ]
  },
  {
   "cell_type": "code",
   "execution_count": 5,
   "id": "540bafd9-9729-44b4-9aa6-26b3ac56c6e4",
   "metadata": {},
   "outputs": [],
   "source": [
    "# Split the data into training(75%) and testing(25%)\n",
    "raisin_split <- initial_split(raisin_data, prop = 0.75, strata = Class)  \n",
    "raisin_train <- training(raisin_split)   \n",
    "raisin_test <- testing(raisin_split)"
   ]
  },
  {
   "cell_type": "code",
   "execution_count": 6,
   "id": "aafbf052-dcfe-45db-9156-528150059a1f",
   "metadata": {},
   "outputs": [
    {
     "data": {
      "text/html": [
       "<table class=\"dataframe\">\n",
       "<caption>A tibble: 2 × 2</caption>\n",
       "<thead>\n",
       "\t<tr><th scope=col>Class</th><th scope=col>n</th></tr>\n",
       "\t<tr><th scope=col>&lt;chr&gt;</th><th scope=col>&lt;int&gt;</th></tr>\n",
       "</thead>\n",
       "<tbody>\n",
       "\t<tr><td>Besni  </td><td>337</td></tr>\n",
       "\t<tr><td>Kecimen</td><td>337</td></tr>\n",
       "</tbody>\n",
       "</table>\n"
      ],
      "text/latex": [
       "A tibble: 2 × 2\n",
       "\\begin{tabular}{ll}\n",
       " Class & n\\\\\n",
       " <chr> & <int>\\\\\n",
       "\\hline\n",
       "\t Besni   & 337\\\\\n",
       "\t Kecimen & 337\\\\\n",
       "\\end{tabular}\n"
      ],
      "text/markdown": [
       "\n",
       "A tibble: 2 × 2\n",
       "\n",
       "| Class &lt;chr&gt; | n &lt;int&gt; |\n",
       "|---|---|\n",
       "| Besni   | 337 |\n",
       "| Kecimen | 337 |\n",
       "\n"
      ],
      "text/plain": [
       "  Class   n  \n",
       "1 Besni   337\n",
       "2 Kecimen 337"
      ]
     },
     "metadata": {},
     "output_type": "display_data"
    },
    {
     "data": {
      "text/html": [
       "<table class=\"dataframe\">\n",
       "<caption>A tibble: 1 × 7</caption>\n",
       "<thead>\n",
       "\t<tr><th scope=col>Area</th><th scope=col>Perimeter</th><th scope=col>MajorAxisLength</th><th scope=col>MinorAxisLength</th><th scope=col>Eccentricity</th><th scope=col>ConvexArea</th><th scope=col>Extent</th></tr>\n",
       "\t<tr><th scope=col>&lt;dbl&gt;</th><th scope=col>&lt;dbl&gt;</th><th scope=col>&lt;dbl&gt;</th><th scope=col>&lt;dbl&gt;</th><th scope=col>&lt;dbl&gt;</th><th scope=col>&lt;dbl&gt;</th><th scope=col>&lt;dbl&gt;</th></tr>\n",
       "</thead>\n",
       "<tbody>\n",
       "\t<tr><td>88000.55</td><td>431.1597</td><td>254.6387</td><td>0.7809659</td><td>91387.12</td><td>0.6999395</td><td>1166.083</td></tr>\n",
       "</tbody>\n",
       "</table>\n"
      ],
      "text/latex": [
       "A tibble: 1 × 7\n",
       "\\begin{tabular}{lllllll}\n",
       " Area & Perimeter & MajorAxisLength & MinorAxisLength & Eccentricity & ConvexArea & Extent\\\\\n",
       " <dbl> & <dbl> & <dbl> & <dbl> & <dbl> & <dbl> & <dbl>\\\\\n",
       "\\hline\n",
       "\t 88000.55 & 431.1597 & 254.6387 & 0.7809659 & 91387.12 & 0.6999395 & 1166.083\\\\\n",
       "\\end{tabular}\n"
      ],
      "text/markdown": [
       "\n",
       "A tibble: 1 × 7\n",
       "\n",
       "| Area &lt;dbl&gt; | Perimeter &lt;dbl&gt; | MajorAxisLength &lt;dbl&gt; | MinorAxisLength &lt;dbl&gt; | Eccentricity &lt;dbl&gt; | ConvexArea &lt;dbl&gt; | Extent &lt;dbl&gt; |\n",
       "|---|---|---|---|---|---|---|\n",
       "| 88000.55 | 431.1597 | 254.6387 | 0.7809659 | 91387.12 | 0.6999395 | 1166.083 |\n",
       "\n"
      ],
      "text/plain": [
       "  Area     Perimeter MajorAxisLength MinorAxisLength Eccentricity ConvexArea\n",
       "1 88000.55 431.1597  254.6387        0.7809659       91387.12     0.6999395 \n",
       "  Extent  \n",
       "1 1166.083"
      ]
     },
     "metadata": {},
     "output_type": "display_data"
    },
    {
     "data": {
      "text/html": [
       "0"
      ],
      "text/latex": [
       "0"
      ],
      "text/markdown": [
       "0"
      ],
      "text/plain": [
       "[1] 0"
      ]
     },
     "metadata": {},
     "output_type": "display_data"
    }
   ],
   "source": [
    "# Summarized data of the training set (number of observaion grouped by class)\n",
    "counts <- raisin_train |>\n",
    "            group_by(Class) |>\n",
    "            summarize(n = n())\n",
    "counts\n",
    "\n",
    "# Summarized data of the training set (mean of the predictors)\n",
    "mean_pred <- raisin_train |>\n",
    "                select(-Class) |>\n",
    "                map_dfr(mean)\n",
    "mean_pred\n",
    "\n",
    "# Number of missing data in the training set\n",
    "sum(is.na(raisin_train))"
   ]
  },
  {
   "cell_type": "code",
   "execution_count": 7,
   "id": "bb8e8761-bc1e-419e-88e2-4f5cbbd3caf4",
   "metadata": {},
   "outputs": [
    {
     "data": {
      "image/png": "[encoded data removed]",
      "text/plain": [
       "plot without title"
      ]
     },
     "metadata": {
      "image/png": {
       "height": 420,
       "width": 420
      }
     },
     "output_type": "display_data"
    }
   ],
   "source": [
    "raisin_data |>\n",
    "   ggplot(aes(x = Area, y = Eccentricity,color = Class)) +\n",
    "     geom_point() +\n",
    "     labs(x = \"Area\", y = \"Eccentricity\") +\n",
    "  ggtitle(\"Area vs Eccentricity\")+\n",
    "    theme(text = element_text(size = 20))"
   ]
  },
  {
   "cell_type": "code",
   "execution_count": null,
   "id": "7b142c3e-21ea-4bf4-8640-e82de46cc935",
   "metadata": {},
   "outputs": [],
   "source": [
    "find_K <-raisin_data |>\n",
    "   ggplot(aes(x = MajorAxisLength, y = Eccentricity,color = Class)) +\n",
    "     geom_point() +\n",
    "     labs(x = \"MajorAxisLength\", y = \"Eccentricity\") +\n",
    " ggtitle(\"MajorAxisLength vs Eccentricity\")+\n",
    "    theme(text = element_text(size = 20))\n",
    "find_K"
   ]
  },
  {
   "cell_type": "code",
   "execution_count": 8,
   "id": "6c0f2597-6b87-43f7-8e30-3b75890b8792",
   "metadata": {},
   "outputs": [
    {
     "data": {
      "text/html": [
       "<table class=\"dataframe\">\n",
       "<caption>A tibble: 20 × 7</caption>\n",
       "<thead>\n",
       "\t<tr><th scope=col>neighbors</th><th scope=col>.metric</th><th scope=col>.estimator</th><th scope=col>mean</th><th scope=col>n</th><th scope=col>std_err</th><th scope=col>.config</th></tr>\n",
       "\t<tr><th scope=col>&lt;dbl&gt;</th><th scope=col>&lt;chr&gt;</th><th scope=col>&lt;chr&gt;</th><th scope=col>&lt;dbl&gt;</th><th scope=col>&lt;int&gt;</th><th scope=col>&lt;dbl&gt;</th><th scope=col>&lt;chr&gt;</th></tr>\n",
       "</thead>\n",
       "<tbody>\n",
       "\t<tr><td> 1</td><td>accuracy</td><td>binary</td><td>0.7758999</td><td>5</td><td>0.019249198</td><td>Preprocessor1_Model01</td></tr>\n",
       "\t<tr><td> 6</td><td>accuracy</td><td>binary</td><td>0.8382572</td><td>5</td><td>0.013050956</td><td>Preprocessor1_Model02</td></tr>\n",
       "\t<tr><td>11</td><td>accuracy</td><td>binary</td><td>0.8561238</td><td>5</td><td>0.014477160</td><td>Preprocessor1_Model03</td></tr>\n",
       "\t<tr><td>16</td><td>accuracy</td><td>binary</td><td>0.8561238</td><td>5</td><td>0.011064926</td><td>Preprocessor1_Model04</td></tr>\n",
       "\t<tr><td>21</td><td>accuracy</td><td>binary</td><td>0.8531168</td><td>5</td><td>0.011145432</td><td>Preprocessor1_Model05</td></tr>\n",
       "\t<tr><td>26</td><td>accuracy</td><td>binary</td><td>0.8501317</td><td>5</td><td>0.008683808</td><td>Preprocessor1_Model06</td></tr>\n",
       "\t<tr><td>31</td><td>accuracy</td><td>binary</td><td>0.8530729</td><td>5</td><td>0.011262754</td><td>Preprocessor1_Model07</td></tr>\n",
       "\t<tr><td>36</td><td>accuracy</td><td>binary</td><td>0.8530509</td><td>5</td><td>0.012506642</td><td>Preprocessor1_Model08</td></tr>\n",
       "\t<tr><td>41</td><td>accuracy</td><td>binary</td><td>0.8471466</td><td>5</td><td>0.009981064</td><td>Preprocessor1_Model09</td></tr>\n",
       "\t<tr><td>46</td><td>accuracy</td><td>binary</td><td>0.8501097</td><td>5</td><td>0.011983393</td><td>Preprocessor1_Model10</td></tr>\n",
       "\t<tr><td>51</td><td>accuracy</td><td>binary</td><td>0.8471247</td><td>5</td><td>0.013184802</td><td>Preprocessor1_Model11</td></tr>\n",
       "\t<tr><td>56</td><td>accuracy</td><td>binary</td><td>0.8470808</td><td>5</td><td>0.015221793</td><td>Preprocessor1_Model12</td></tr>\n",
       "\t<tr><td>61</td><td>accuracy</td><td>binary</td><td>0.8426471</td><td>5</td><td>0.013424261</td><td>Preprocessor1_Model13</td></tr>\n",
       "\t<tr><td>66</td><td>accuracy</td><td>binary</td><td>0.8441396</td><td>5</td><td>0.011997054</td><td>Preprocessor1_Model14</td></tr>\n",
       "\t<tr><td>71</td><td>accuracy</td><td>binary</td><td>0.8366989</td><td>5</td><td>0.014568799</td><td>Preprocessor1_Model15</td></tr>\n",
       "\t<tr><td>76</td><td>accuracy</td><td>binary</td><td>0.8322432</td><td>5</td><td>0.015960074</td><td>Preprocessor1_Model16</td></tr>\n",
       "\t<tr><td>81</td><td>accuracy</td><td>binary</td><td>0.8322212</td><td>5</td><td>0.016189822</td><td>Preprocessor1_Model17</td></tr>\n",
       "\t<tr><td>86</td><td>accuracy</td><td>binary</td><td>0.8292362</td><td>5</td><td>0.017769944</td><td>Preprocessor1_Model18</td></tr>\n",
       "\t<tr><td>91</td><td>accuracy</td><td>binary</td><td>0.8306629</td><td>5</td><td>0.019688152</td><td>Preprocessor1_Model19</td></tr>\n",
       "\t<tr><td>96</td><td>accuracy</td><td>binary</td><td>0.8291703</td><td>5</td><td>0.018777292</td><td>Preprocessor1_Model20</td></tr>\n",
       "</tbody>\n",
       "</table>\n"
      ],
      "text/latex": [
       "A tibble: 20 × 7\n",
       "\\begin{tabular}{lllllll}\n",
       " neighbors & .metric & .estimator & mean & n & std\\_err & .config\\\\\n",
       " <dbl> & <chr> & <chr> & <dbl> & <int> & <dbl> & <chr>\\\\\n",
       "\\hline\n",
       "\t  1 & accuracy & binary & 0.7758999 & 5 & 0.019249198 & Preprocessor1\\_Model01\\\\\n",
       "\t  6 & accuracy & binary & 0.8382572 & 5 & 0.013050956 & Preprocessor1\\_Model02\\\\\n",
       "\t 11 & accuracy & binary & 0.8561238 & 5 & 0.014477160 & Preprocessor1\\_Model03\\\\\n",
       "\t 16 & accuracy & binary & 0.8561238 & 5 & 0.011064926 & Preprocessor1\\_Model04\\\\\n",
       "\t 21 & accuracy & binary & 0.8531168 & 5 & 0.011145432 & Preprocessor1\\_Model05\\\\\n",
       "\t 26 & accuracy & binary & 0.8501317 & 5 & 0.008683808 & Preprocessor1\\_Model06\\\\\n",
       "\t 31 & accuracy & binary & 0.8530729 & 5 & 0.011262754 & Preprocessor1\\_Model07\\\\\n",
       "\t 36 & accuracy & binary & 0.8530509 & 5 & 0.012506642 & Preprocessor1\\_Model08\\\\\n",
       "\t 41 & accuracy & binary & 0.8471466 & 5 & 0.009981064 & Preprocessor1\\_Model09\\\\\n",
       "\t 46 & accuracy & binary & 0.8501097 & 5 & 0.011983393 & Preprocessor1\\_Model10\\\\\n",
       "\t 51 & accuracy & binary & 0.8471247 & 5 & 0.013184802 & Preprocessor1\\_Model11\\\\\n",
       "\t 56 & accuracy & binary & 0.8470808 & 5 & 0.015221793 & Preprocessor1\\_Model12\\\\\n",
       "\t 61 & accuracy & binary & 0.8426471 & 5 & 0.013424261 & Preprocessor1\\_Model13\\\\\n",
       "\t 66 & accuracy & binary & 0.8441396 & 5 & 0.011997054 & Preprocessor1\\_Model14\\\\\n",
       "\t 71 & accuracy & binary & 0.8366989 & 5 & 0.014568799 & Preprocessor1\\_Model15\\\\\n",
       "\t 76 & accuracy & binary & 0.8322432 & 5 & 0.015960074 & Preprocessor1\\_Model16\\\\\n",
       "\t 81 & accuracy & binary & 0.8322212 & 5 & 0.016189822 & Preprocessor1\\_Model17\\\\\n",
       "\t 86 & accuracy & binary & 0.8292362 & 5 & 0.017769944 & Preprocessor1\\_Model18\\\\\n",
       "\t 91 & accuracy & binary & 0.8306629 & 5 & 0.019688152 & Preprocessor1\\_Model19\\\\\n",
       "\t 96 & accuracy & binary & 0.8291703 & 5 & 0.018777292 & Preprocessor1\\_Model20\\\\\n",
       "\\end{tabular}\n"
      ],
      "text/markdown": [
       "\n",
       "A tibble: 20 × 7\n",
       "\n",
       "| neighbors &lt;dbl&gt; | .metric &lt;chr&gt; | .estimator &lt;chr&gt; | mean &lt;dbl&gt; | n &lt;int&gt; | std_err &lt;dbl&gt; | .config &lt;chr&gt; |\n",
       "|---|---|---|---|---|---|---|\n",
       "|  1 | accuracy | binary | 0.7758999 | 5 | 0.019249198 | Preprocessor1_Model01 |\n",
       "|  6 | accuracy | binary | 0.8382572 | 5 | 0.013050956 | Preprocessor1_Model02 |\n",
       "| 11 | accuracy | binary | 0.8561238 | 5 | 0.014477160 | Preprocessor1_Model03 |\n",
       "| 16 | accuracy | binary | 0.8561238 | 5 | 0.011064926 | Preprocessor1_Model04 |\n",
       "| 21 | accuracy | binary | 0.8531168 | 5 | 0.011145432 | Preprocessor1_Model05 |\n",
       "| 26 | accuracy | binary | 0.8501317 | 5 | 0.008683808 | Preprocessor1_Model06 |\n",
       "| 31 | accuracy | binary | 0.8530729 | 5 | 0.011262754 | Preprocessor1_Model07 |\n",
       "| 36 | accuracy | binary | 0.8530509 | 5 | 0.012506642 | Preprocessor1_Model08 |\n",
       "| 41 | accuracy | binary | 0.8471466 | 5 | 0.009981064 | Preprocessor1_Model09 |\n",
       "| 46 | accuracy | binary | 0.8501097 | 5 | 0.011983393 | Preprocessor1_Model10 |\n",
       "| 51 | accuracy | binary | 0.8471247 | 5 | 0.013184802 | Preprocessor1_Model11 |\n",
       "| 56 | accuracy | binary | 0.8470808 | 5 | 0.015221793 | Preprocessor1_Model12 |\n",
       "| 61 | accuracy | binary | 0.8426471 | 5 | 0.013424261 | Preprocessor1_Model13 |\n",
       "| 66 | accuracy | binary | 0.8441396 | 5 | 0.011997054 | Preprocessor1_Model14 |\n",
       "| 71 | accuracy | binary | 0.8366989 | 5 | 0.014568799 | Preprocessor1_Model15 |\n",
       "| 76 | accuracy | binary | 0.8322432 | 5 | 0.015960074 | Preprocessor1_Model16 |\n",
       "| 81 | accuracy | binary | 0.8322212 | 5 | 0.016189822 | Preprocessor1_Model17 |\n",
       "| 86 | accuracy | binary | 0.8292362 | 5 | 0.017769944 | Preprocessor1_Model18 |\n",
       "| 91 | accuracy | binary | 0.8306629 | 5 | 0.019688152 | Preprocessor1_Model19 |\n",
       "| 96 | accuracy | binary | 0.8291703 | 5 | 0.018777292 | Preprocessor1_Model20 |\n",
       "\n"
      ],
      "text/plain": [
       "   neighbors .metric  .estimator mean      n std_err     .config              \n",
       "1   1        accuracy binary     0.7758999 5 0.019249198 Preprocessor1_Model01\n",
       "2   6        accuracy binary     0.8382572 5 0.013050956 Preprocessor1_Model02\n",
       "3  11        accuracy binary     0.8561238 5 0.014477160 Preprocessor1_Model03\n",
       "4  16        accuracy binary     0.8561238 5 0.011064926 Preprocessor1_Model04\n",
       "5  21        accuracy binary     0.8531168 5 0.011145432 Preprocessor1_Model05\n",
       "6  26        accuracy binary     0.8501317 5 0.008683808 Preprocessor1_Model06\n",
       "7  31        accuracy binary     0.8530729 5 0.011262754 Preprocessor1_Model07\n",
       "8  36        accuracy binary     0.8530509 5 0.012506642 Preprocessor1_Model08\n",
       "9  41        accuracy binary     0.8471466 5 0.009981064 Preprocessor1_Model09\n",
       "10 46        accuracy binary     0.8501097 5 0.011983393 Preprocessor1_Model10\n",
       "11 51        accuracy binary     0.8471247 5 0.013184802 Preprocessor1_Model11\n",
       "12 56        accuracy binary     0.8470808 5 0.015221793 Preprocessor1_Model12\n",
       "13 61        accuracy binary     0.8426471 5 0.013424261 Preprocessor1_Model13\n",
       "14 66        accuracy binary     0.8441396 5 0.011997054 Preprocessor1_Model14\n",
       "15 71        accuracy binary     0.8366989 5 0.014568799 Preprocessor1_Model15\n",
       "16 76        accuracy binary     0.8322432 5 0.015960074 Preprocessor1_Model16\n",
       "17 81        accuracy binary     0.8322212 5 0.016189822 Preprocessor1_Model17\n",
       "18 86        accuracy binary     0.8292362 5 0.017769944 Preprocessor1_Model18\n",
       "19 91        accuracy binary     0.8306629 5 0.019688152 Preprocessor1_Model19\n",
       "20 96        accuracy binary     0.8291703 5 0.018777292 Preprocessor1_Model20"
      ]
     },
     "metadata": {},
     "output_type": "display_data"
    },
    {
     "data": {
      "image/png": "[encoded data removed]",
      "text/plain": [
       "plot without title"
      ]
     },
     "metadata": {
      "image/png": {
       "height": 420,
       "width": 420
      }
     },
     "output_type": "display_data"
    }
   ],
   "source": [
    "# Visualize the training data\n",
    "\n",
    "raisin_recipe <- recipe(Class ~ MajorAxisLength + Eccentricity, data = raisin_train) |>\n",
    "  step_scale(all_predictors()) |>\n",
    "  step_center(all_predictors())\n",
    "\n",
    "cancer_vfold <- vfold_cv(raisin_train, v = 5, strata = Class)\n",
    "\n",
    "knn_spec <- nearest_neighbor(weight_func = \"rectangular\", \n",
    "                             neighbors = tune()) |>\n",
    "  set_engine(\"kknn\") |>\n",
    "  set_mode(\"classification\")\n",
    "\n",
    "k_vals <- tibble(neighbors = seq(from = 1, to = 100, by = 5))\n",
    "\n",
    "knn_results <- workflow() |>\n",
    "  add_recipe(raisin_recipe) |>\n",
    "  add_model(knn_spec) |>\n",
    "  tune_grid(resamples = cancer_vfold, grid = k_vals) |>\n",
    "  collect_metrics() \n",
    "\n",
    "accuracies <- knn_results |>\n",
    "  filter(.metric == \"accuracy\")\n",
    "\n",
    "accuracies\n",
    "\n",
    "accuracy_vs_k <- ggplot(accuracies, aes(x = neighbors, y = mean)) +\n",
    "  geom_point() +\n",
    "  geom_line() +\n",
    "  labs(x = \"Neighbors\", y = \"Accuracy Estimate\") + \n",
    "  theme(text = element_text(size = 12))\n",
    "\n",
    "accuracy_vs_k\n"
   ]
  },
  {
   "cell_type": "markdown",
   "id": "497bfa35",
   "metadata": {},
   "source": [
    "## Methods"
   ]
  },
  {
   "cell_type": "markdown",
   "id": "7f0c66e3-6d69-47a3-9cb2-12fb9f80057f",
   "metadata": {},
   "source": [
    "After exploring the data, selecting the predictors we wanted to build the model, splitting the data into training(75%) and testing(25%).We have made two scatter plots to visualize the relationship between our variables, to confirm whether there is enough differentiation for prediction. In the scatter plot shows the relationship between “Area” and “Eccentricity”, we can clearly see there are so many overlaps, so these two data cannot be used as prediction factors. However, in the relationship graph of “Major Axis Length” and “Eccentricity”, we can see that the discrimination between the two data is relatively high, so it can be used as a factor for prediction. Through simple processing, we found that when neighbors arounds 23, our prediction accuracy rate is the highest (87%).\n",
    "\n",
    "There are many visualization methods, one of which is to make a scatter plot between the predicted class and the real class and make a regression line to prove the accuracy of our prediction. If the visualization proves that there is enough correlation, then our model is reliable."
   ]
  },
  {
   "cell_type": "markdown",
   "id": "f8758f8d",
   "metadata": {},
   "source": [
    "## Expected outcomes and significance"
   ]
  },
  {
   "cell_type": "code",
   "execution_count": null,
   "id": "43770790",
   "metadata": {},
   "outputs": [],
   "source": []
  }
 ],
 "metadata": {
  "kernelspec": {
   "display_name": "R",
   "language": "R",
   "name": "ir"
  },
  "language_info": {
   "codemirror_mode": "r",
   "file_extension": ".r",
   "mimetype": "text/x-r-source",
   "name": "R",
   "pygments_lexer": "r",
   "version": "4.1.3"
  }
 },
 "nbformat": 4,
 "nbformat_minor": 5
}
