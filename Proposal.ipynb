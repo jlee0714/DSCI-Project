{
 "cells": [
  {
   "cell_type": "markdown",
   "id": "c7744ea2-cdf3-4334-9403-62b7f95c02ac",
   "metadata": {},
   "source": [
    "# Classification on Raisin Dataset Proposal"
   ]
  },
  {
   "cell_type": "markdown",
   "id": "f061ade5",
   "metadata": {},
   "source": [
    "## Introduction"
   ]
  },
  {
   "cell_type": "markdown",
   "id": "6b285417-3303-43f2-ba39-ef7f3d29d41a",
   "metadata": {},
   "source": [
    "All aspects of the natural life around us are surrounded by patterns and relationships. Although some of these have been discovered, many natural phenomena are unexplainable as of today. Tools such as classification are used to further discern these natural patterns and make sense of our world by specifying and identifying different types or species of nature. Within this project, we will be aiming to show the importance of classification, by applying this concept to an example dataset regarding raisins. Within this dataset, 900 raisin grains were collected between two types of Turkish raisins, Kecimen and Besni. Images were taken of these 900 raisins and 7 physical features of the raisins were identified, including the raisins area, perimeter, length and more. We seek to use this dataset and identify key features that will allow us to classify whether the raisin is Kecimen or Besni. By doing so, we will show the effectiveness of classification and show how this can be extrapolated to further and more complex phenomena in our world. \n"
   ]
  },
  {
   "cell_type": "markdown",
   "id": "57ec522b",
   "metadata": {},
   "source": [
    "## Preliminary Exploratory Data Analysis"
   ]
  },
  {
   "cell_type": "code",
   "execution_count": 30,
   "id": "9fabcfd1",
   "metadata": {},
   "outputs": [],
   "source": [
    "# Load the packages\n",
    "library(repr)\n",
    "library(tidyverse)\n",
    "library(tidymodels)"
   ]
  },
  {
   "cell_type": "code",
   "execution_count": 31,
   "id": "4166973b-17c3-42eb-a712-c3063481b3ec",
   "metadata": {},
   "outputs": [
    {
     "data": {
      "text/html": [
       "<table class=\"dataframe\">\n",
       "<caption>A data.frame: 6 × 8</caption>\n",
       "<thead>\n",
       "\t<tr><th></th><th scope=col>Area</th><th scope=col>Perimeter</th><th scope=col>MajorAxisLength</th><th scope=col>MinorAxisLength</th><th scope=col>Eccentricity</th><th scope=col>ConvexArea</th><th scope=col>Extent</th><th scope=col>Class</th></tr>\n",
       "\t<tr><th></th><th scope=col>&lt;int&gt;</th><th scope=col>&lt;dbl&gt;</th><th scope=col>&lt;dbl&gt;</th><th scope=col>&lt;dbl&gt;</th><th scope=col>&lt;int&gt;</th><th scope=col>&lt;dbl&gt;</th><th scope=col>&lt;dbl&gt;</th><th scope=col>&lt;chr&gt;</th></tr>\n",
       "</thead>\n",
       "<tbody>\n",
       "\t<tr><th scope=row>1</th><td>87524</td><td>442.2460</td><td>253.2912</td><td>0.8197384</td><td>90546</td><td>0.7586506</td><td>1184.040</td><td>Kecimen</td></tr>\n",
       "\t<tr><th scope=row>2</th><td>75166</td><td>406.6907</td><td>243.0324</td><td>0.8018052</td><td>78789</td><td>0.6841296</td><td>1121.786</td><td>Kecimen</td></tr>\n",
       "\t<tr><th scope=row>3</th><td>90856</td><td>442.2670</td><td>266.3283</td><td>0.7983536</td><td>93717</td><td>0.6376128</td><td>1208.575</td><td>Kecimen</td></tr>\n",
       "\t<tr><th scope=row>4</th><td>45928</td><td>286.5406</td><td>208.7600</td><td>0.6849892</td><td>47336</td><td>0.6995994</td><td> 844.162</td><td>Kecimen</td></tr>\n",
       "\t<tr><th scope=row>5</th><td>79408</td><td>352.1908</td><td>290.8275</td><td>0.5640113</td><td>81463</td><td>0.7927719</td><td>1073.251</td><td>Kecimen</td></tr>\n",
       "\t<tr><th scope=row>6</th><td>49242</td><td>318.1254</td><td>200.1221</td><td>0.7773513</td><td>51368</td><td>0.6584564</td><td> 881.836</td><td>Kecimen</td></tr>\n",
       "</tbody>\n",
       "</table>\n"
      ],
      "text/latex": [
       "A data.frame: 6 × 8\n",
       "\\begin{tabular}{r|llllllll}\n",
       "  & Area & Perimeter & MajorAxisLength & MinorAxisLength & Eccentricity & ConvexArea & Extent & Class\\\\\n",
       "  & <int> & <dbl> & <dbl> & <dbl> & <int> & <dbl> & <dbl> & <chr>\\\\\n",
       "\\hline\n",
       "\t1 & 87524 & 442.2460 & 253.2912 & 0.8197384 & 90546 & 0.7586506 & 1184.040 & Kecimen\\\\\n",
       "\t2 & 75166 & 406.6907 & 243.0324 & 0.8018052 & 78789 & 0.6841296 & 1121.786 & Kecimen\\\\\n",
       "\t3 & 90856 & 442.2670 & 266.3283 & 0.7983536 & 93717 & 0.6376128 & 1208.575 & Kecimen\\\\\n",
       "\t4 & 45928 & 286.5406 & 208.7600 & 0.6849892 & 47336 & 0.6995994 &  844.162 & Kecimen\\\\\n",
       "\t5 & 79408 & 352.1908 & 290.8275 & 0.5640113 & 81463 & 0.7927719 & 1073.251 & Kecimen\\\\\n",
       "\t6 & 49242 & 318.1254 & 200.1221 & 0.7773513 & 51368 & 0.6584564 &  881.836 & Kecimen\\\\\n",
       "\\end{tabular}\n"
      ],
      "text/markdown": [
       "\n",
       "A data.frame: 6 × 8\n",
       "\n",
       "| <!--/--> | Area &lt;int&gt; | Perimeter &lt;dbl&gt; | MajorAxisLength &lt;dbl&gt; | MinorAxisLength &lt;dbl&gt; | Eccentricity &lt;int&gt; | ConvexArea &lt;dbl&gt; | Extent &lt;dbl&gt; | Class &lt;chr&gt; |\n",
       "|---|---|---|---|---|---|---|---|---|\n",
       "| 1 | 87524 | 442.2460 | 253.2912 | 0.8197384 | 90546 | 0.7586506 | 1184.040 | Kecimen |\n",
       "| 2 | 75166 | 406.6907 | 243.0324 | 0.8018052 | 78789 | 0.6841296 | 1121.786 | Kecimen |\n",
       "| 3 | 90856 | 442.2670 | 266.3283 | 0.7983536 | 93717 | 0.6376128 | 1208.575 | Kecimen |\n",
       "| 4 | 45928 | 286.5406 | 208.7600 | 0.6849892 | 47336 | 0.6995994 |  844.162 | Kecimen |\n",
       "| 5 | 79408 | 352.1908 | 290.8275 | 0.5640113 | 81463 | 0.7927719 | 1073.251 | Kecimen |\n",
       "| 6 | 49242 | 318.1254 | 200.1221 | 0.7773513 | 51368 | 0.6584564 |  881.836 | Kecimen |\n",
       "\n"
      ],
      "text/plain": [
       "  Area  Perimeter MajorAxisLength MinorAxisLength Eccentricity ConvexArea\n",
       "1 87524 442.2460  253.2912        0.8197384       90546        0.7586506 \n",
       "2 75166 406.6907  243.0324        0.8018052       78789        0.6841296 \n",
       "3 90856 442.2670  266.3283        0.7983536       93717        0.6376128 \n",
       "4 45928 286.5406  208.7600        0.6849892       47336        0.6995994 \n",
       "5 79408 352.1908  290.8275        0.5640113       81463        0.7927719 \n",
       "6 49242 318.1254  200.1221        0.7773513       51368        0.6584564 \n",
       "  Extent   Class  \n",
       "1 1184.040 Kecimen\n",
       "2 1121.786 Kecimen\n",
       "3 1208.575 Kecimen\n",
       "4  844.162 Kecimen\n",
       "5 1073.251 Kecimen\n",
       "6  881.836 Kecimen"
      ]
     },
     "metadata": {},
     "output_type": "display_data"
    }
   ],
   "source": [
    "# Load data and rename columns\n",
    "raisin_data <- read.table(\"data/Raisin_Dataset.arff\", sep = \",\", skip = 18)\n",
    "colnames(raisin_data) = c(\"Area\", \"Perimeter\", \"MajorAxisLength\", \"MinorAxisLength\",\n",
    "                          \"Eccentricity\", \"ConvexArea\", \"Extent\", \"Class\")\n",
    "head(raisin_data)"
   ]
  },
  {
   "cell_type": "code",
   "execution_count": 32,
   "id": "87f6c4ec-e3f2-4d70-a15c-73e3d4510f56",
   "metadata": {},
   "outputs": [],
   "source": [
    "# Select the columns(predictors) to build model"
   ]
  },
  {
   "cell_type": "code",
   "execution_count": 33,
   "id": "540bafd9-9729-44b4-9aa6-26b3ac56c6e4",
   "metadata": {},
   "outputs": [],
   "source": [
    "# Split the data into training(75%) and testing(25%)\n",
    "raisin_split <- initial_split(raisin_data, prop = 0.75, strata = Class)  \n",
    "raisin_train <- training(raisin_split)   \n",
    "raisin_test <- testing(raisin_split)"
   ]
  },
  {
   "cell_type": "code",
   "execution_count": 34,
   "id": "aafbf052-dcfe-45db-9156-528150059a1f",
   "metadata": {},
   "outputs": [
    {
     "data": {
      "text/html": [
       "<table class=\"dataframe\">\n",
       "<caption>A tibble: 2 × 2</caption>\n",
       "<thead>\n",
       "\t<tr><th scope=col>Class</th><th scope=col>n</th></tr>\n",
       "\t<tr><th scope=col>&lt;chr&gt;</th><th scope=col>&lt;int&gt;</th></tr>\n",
       "</thead>\n",
       "<tbody>\n",
       "\t<tr><td>Besni  </td><td>337</td></tr>\n",
       "\t<tr><td>Kecimen</td><td>337</td></tr>\n",
       "</tbody>\n",
       "</table>\n"
      ],
      "text/latex": [
       "A tibble: 2 × 2\n",
       "\\begin{tabular}{ll}\n",
       " Class & n\\\\\n",
       " <chr> & <int>\\\\\n",
       "\\hline\n",
       "\t Besni   & 337\\\\\n",
       "\t Kecimen & 337\\\\\n",
       "\\end{tabular}\n"
      ],
      "text/markdown": [
       "\n",
       "A tibble: 2 × 2\n",
       "\n",
       "| Class &lt;chr&gt; | n &lt;int&gt; |\n",
       "|---|---|\n",
       "| Besni   | 337 |\n",
       "| Kecimen | 337 |\n",
       "\n"
      ],
      "text/plain": [
       "  Class   n  \n",
       "1 Besni   337\n",
       "2 Kecimen 337"
      ]
     },
     "metadata": {},
     "output_type": "display_data"
    },
    {
     "data": {
      "text/html": [
       "<table class=\"dataframe\">\n",
       "<caption>A tibble: 1 × 7</caption>\n",
       "<thead>\n",
       "\t<tr><th scope=col>Area</th><th scope=col>Perimeter</th><th scope=col>MajorAxisLength</th><th scope=col>MinorAxisLength</th><th scope=col>Eccentricity</th><th scope=col>ConvexArea</th><th scope=col>Extent</th></tr>\n",
       "\t<tr><th scope=col>&lt;dbl&gt;</th><th scope=col>&lt;dbl&gt;</th><th scope=col>&lt;dbl&gt;</th><th scope=col>&lt;dbl&gt;</th><th scope=col>&lt;dbl&gt;</th><th scope=col>&lt;dbl&gt;</th><th scope=col>&lt;dbl&gt;</th></tr>\n",
       "</thead>\n",
       "<tbody>\n",
       "\t<tr><td>88255.42</td><td>431.6429</td><td>255.0465</td><td>0.7809666</td><td>91552.38</td><td>0.6984483</td><td>1167.08</td></tr>\n",
       "</tbody>\n",
       "</table>\n"
      ],
      "text/latex": [
       "A tibble: 1 × 7\n",
       "\\begin{tabular}{lllllll}\n",
       " Area & Perimeter & MajorAxisLength & MinorAxisLength & Eccentricity & ConvexArea & Extent\\\\\n",
       " <dbl> & <dbl> & <dbl> & <dbl> & <dbl> & <dbl> & <dbl>\\\\\n",
       "\\hline\n",
       "\t 88255.42 & 431.6429 & 255.0465 & 0.7809666 & 91552.38 & 0.6984483 & 1167.08\\\\\n",
       "\\end{tabular}\n"
      ],
      "text/markdown": [
       "\n",
       "A tibble: 1 × 7\n",
       "\n",
       "| Area &lt;dbl&gt; | Perimeter &lt;dbl&gt; | MajorAxisLength &lt;dbl&gt; | MinorAxisLength &lt;dbl&gt; | Eccentricity &lt;dbl&gt; | ConvexArea &lt;dbl&gt; | Extent &lt;dbl&gt; |\n",
       "|---|---|---|---|---|---|---|\n",
       "| 88255.42 | 431.6429 | 255.0465 | 0.7809666 | 91552.38 | 0.6984483 | 1167.08 |\n",
       "\n"
      ],
      "text/plain": [
       "  Area     Perimeter MajorAxisLength MinorAxisLength Eccentricity ConvexArea\n",
       "1 88255.42 431.6429  255.0465        0.7809666       91552.38     0.6984483 \n",
       "  Extent \n",
       "1 1167.08"
      ]
     },
     "metadata": {},
     "output_type": "display_data"
    },
    {
     "data": {
      "text/html": [
       "0"
      ],
      "text/latex": [
       "0"
      ],
      "text/markdown": [
       "0"
      ],
      "text/plain": [
       "[1] 0"
      ]
     },
     "metadata": {},
     "output_type": "display_data"
    }
   ],
   "source": [
    "# Summarized data of the training set (number of observaion grouped by class)\n",
    "counts <- raisin_train |>\n",
    "            group_by(Class) |>\n",
    "            summarize(n = n())\n",
    "counts\n",
    "\n",
    "# Summarized data of the training set (mean of the predictors)\n",
    "mean_pred <- raisin_train |>\n",
    "                select(-Class) |>\n",
    "                map_dfr(mean)\n",
    "mean_pred\n",
    "\n",
    "# Number of missing data in the training set\n",
    "sum(is.na(raisin_train))"
   ]
  },
  {
   "cell_type": "code",
   "execution_count": 35,
   "id": "6c0f2597-6b87-43f7-8e30-3b75890b8792",
   "metadata": {},
   "outputs": [],
   "source": [
    "# Visualize the training data"
   ]
  },
  {
   "cell_type": "markdown",
   "id": "497bfa35",
   "metadata": {},
   "source": [
    "## Methods"
   ]
  },
  {
   "cell_type": "markdown",
   "id": "7f0c66e3-6d69-47a3-9cb2-12fb9f80057f",
   "metadata": {},
   "source": [
    "Maybe expand on this:\n",
    "After exploring the data, selecting the predictors we wanted to build the model, splitting the data into training(75%) and testing(25%), we use cross validation to choose the best k value to build our classification model."
   ]
  },
  {
   "cell_type": "markdown",
   "id": "f8758f8d",
   "metadata": {},
   "source": [
    "## Expected outcomes and significance"
   ]
  },
  {
   "cell_type": "code",
   "execution_count": null,
   "id": "43770790",
   "metadata": {},
   "outputs": [],
   "source": []
  }
 ],
 "metadata": {
  "kernelspec": {
   "display_name": "R",
   "language": "R",
   "name": "ir"
  },
  "language_info": {
   "codemirror_mode": "r",
   "file_extension": ".r",
   "mimetype": "text/x-r-source",
   "name": "R",
   "pygments_lexer": "r",
   "version": "4.1.3"
  }
 },
 "nbformat": 4,
 "nbformat_minor": 5
}
