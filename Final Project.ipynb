{
 "cells": [
  {
   "cell_type": "markdown",
   "id": "5a19be3a-23eb-4238-bbe5-dc046f3d2540",
   "metadata": {},
   "source": []
  },
  {
   "cell_type": "markdown",
   "id": "c3f4f73d-45c3-4597-883b-009011137b6b",
   "metadata": {},
   "source": [
    "Intro"
   ]
  },
  {
   "cell_type": "markdown",
   "id": "b3ac0582-e6b6-4d08-acf0-12901bb2a832",
   "metadata": {},
   "source": [
    "Methods and Results"
   ]
  },
  {
   "cell_type": "markdown",
   "id": "04005a05-b3cc-479a-9ca1-e18a0b79cbf6",
   "metadata": {},
   "source": [
    "Discussion"
   ]
  },
  {
   "cell_type": "markdown",
   "id": "e440b37b-c717-4342-8736-fc1a860b84fc",
   "metadata": {},
   "source": [
    "References"
   ]
  },
  {
   "cell_type": "code",
   "execution_count": null,
   "id": "000baa3b-ab22-4457-a103-068e59aad779",
   "metadata": {},
   "outputs": [],
   "source": []
  }
 ],
 "metadata": {
  "kernelspec": {
   "display_name": "R",
   "language": "R",
   "name": "ir"
  },
  "language_info": {
   "codemirror_mode": "r",
   "file_extension": ".r",
   "mimetype": "text/x-r-source",
   "name": "R",
   "pygments_lexer": "r",
   "version": "4.1.3"
  }
 },
 "nbformat": 4,
 "nbformat_minor": 5
}
